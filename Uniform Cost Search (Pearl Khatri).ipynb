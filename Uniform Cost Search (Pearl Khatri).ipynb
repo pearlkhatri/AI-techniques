{
 "cells": [
  {
   "cell_type": "code",
   "execution_count": 1,
   "id": "978df975",
   "metadata": {},
   "outputs": [],
   "source": [
    "from collections import defaultdict\n",
    "from queue import PriorityQueue"
   ]
  },
  {
   "cell_type": "code",
   "execution_count": 2,
   "id": "344159f2",
   "metadata": {},
   "outputs": [],
   "source": [
    "class Graph:\n",
    "    def __init__(self, is_directed): \n",
    "        self.adjacency_list = defaultdict(list)\n",
    "        self.is_directed = is_directed\n",
    "\n",
    "    def add_edge(self, u, v, weight):\n",
    "        if self.is_directed:\n",
    "            edge = (weight, v)\n",
    "            self.adjacency_list[u].append(edge)\n",
    "        else:\n",
    "            edge_uv = (weight, v)\n",
    "            edge_vu = (weight, u)\n",
    "            self.adjacency_list[u].append(edge_uv)\n",
    "            self.adjacency_list[v].append(edge_vu)\n",
    "\n",
    "    def uniform_cost_search(self, start_node, goal_node):\n",
    "        visited_nodes = []  \n",
    "        priority_queue = PriorityQueue()\n",
    "        priority_queue.put((0, start_node))\n",
    "        \n",
    "        while not priority_queue.empty():\n",
    "            priority, current_node = priority_queue.get()\n",
    "            \n",
    "            if current_node == goal_node:\n",
    "                print(current_node, end=\" \")\n",
    "                priority_queue.queue.clear()\n",
    "            else:\n",
    "                if current_node in visited_nodes:\n",
    "                    continue\n",
    "                    \n",
    "                print(current_node, end=\" \")\n",
    "                visited_nodes.append(current_node)\n",
    "\n",
    "                for neighbour in self.adjacency_list[current_node]:\n",
    "                    priority_queue.put((neighbour[0], neighbour[1]))"
   ]
  },
  {
   "cell_type": "code",
   "execution_count": 3,
   "id": "d2162443",
   "metadata": {},
   "outputs": [],
   "source": [
    "\n",
    "my_graph = Graph(is_directed=False)"
   ]
  },
  {
   "cell_type": "code",
   "execution_count": 4,
   "id": "4a7846bb",
   "metadata": {},
   "outputs": [],
   "source": [
    "my_graph.adjacency_list = defaultdict(list)\n",
    "my_graph.add_edge('S', 'A', 1)\n",
    "my_graph.add_edge('S', 'G', 12)\n",
    "my_graph.add_edge('A', 'B', 3)\n",
    "my_graph.add_edge('A', 'C', 1)\n",
    "my_graph.add_edge('C', 'D', 1)\n",
    "my_graph.add_edge('B', 'D', 3)\n",
    "my_graph.add_edge('C', 'G', 2)\n",
    "my_graph.add_edge('D', 'G', 3)"
   ]
  },
  {
   "cell_type": "code",
   "execution_count": 6,
   "id": "1e726a85",
   "metadata": {},
   "outputs": [
    {
     "data": {
      "text/plain": [
       "defaultdict(list,\n",
       "            {'S': [(1, 'A'), (12, 'G')],\n",
       "             'A': [(1, 'S'), (3, 'B'), (1, 'C')],\n",
       "             'G': [(12, 'S'), (2, 'C'), (3, 'D')],\n",
       "             'B': [(3, 'A'), (3, 'D')],\n",
       "             'C': [(1, 'A'), (1, 'D'), (2, 'G')],\n",
       "             'D': [(1, 'C'), (3, 'B'), (3, 'G')]})"
      ]
     },
     "execution_count": 6,
     "metadata": {},
     "output_type": "execute_result"
    }
   ],
   "source": [
    "my_graph.adjacency_list"
   ]
  },
  {
   "cell_type": "code",
   "execution_count": 8,
   "id": "fc60bdd8",
   "metadata": {},
   "outputs": [
    {
     "name": "stdout",
     "output_type": "stream",
     "text": [
      "S A C D "
     ]
    }
   ],
   "source": [
    "start_node = 'S'\n",
    "goal_node = 'D'\n",
    "my_graph.uniform_cost_search(start_node, goal_node)"
   ]
  }
 ],
 "metadata": {
  "kernelspec": {
   "display_name": "Python 3 (ipykernel)",
   "language": "python",
   "name": "python3"
  },
  "language_info": {
   "codemirror_mode": {
    "name": "ipython",
    "version": 3
   },
   "file_extension": ".py",
   "mimetype": "text/x-python",
   "name": "python",
   "nbconvert_exporter": "python",
   "pygments_lexer": "ipython3",
   "version": "3.11.0"
  }
 },
 "nbformat": 4,
 "nbformat_minor": 5
}
