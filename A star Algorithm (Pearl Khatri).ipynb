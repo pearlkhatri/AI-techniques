{
 "cells": [
  {
   "cell_type": "code",
   "execution_count": 1,
   "id": "9d736f70",
   "metadata": {},
   "outputs": [
    {
     "name": "stdout",
     "output_type": "stream",
     "text": [
      "Path found: ['A', 'F', 'G', 'I', 'J']\n"
     ]
    },
    {
     "data": {
      "text/plain": [
       "['A', 'F', 'G', 'I', 'J']"
      ]
     },
     "execution_count": 1,
     "metadata": {},
     "output_type": "execute_result"
    }
   ],
   "source": [
    "graph_nodes = {\n",
    "    'A': [('B', 6), ('F', 3)],\n",
    "    'B': [('C', 3), ('D', 2)],\n",
    "    'C': [('D', 1), ('E', 5)],\n",
    "    'D': [('C', 1), ('E', 8)],\n",
    "    'E': [('I', 5), ('J', 5)],\n",
    "    'F': [('G', 1), ('H', 7)],\n",
    "    'G': [('I', 3)],\n",
    "    'H': [('I', 2)],\n",
    "    'I': [('E', 5), ('J', 3)],\n",
    "}\n",
    "\n",
    "def get_neighbors(node):\n",
    "    if node in graph_nodes:\n",
    "        return graph_nodes[node]\n",
    "    else:\n",
    "        return None\n",
    "\n",
    "def heuristic_distance(node):\n",
    "    h_distances = {\n",
    "        'A': 10,\n",
    "        'B': 8,\n",
    "        'C': 5,\n",
    "        'D': 7,\n",
    "        'E': 3,\n",
    "        'F': 6,\n",
    "        'G': 5,\n",
    "        'H': 3,\n",
    "        'I': 1,\n",
    "        'J': 0\n",
    "    }\n",
    "    return h_distances[node]\n",
    "\n",
    "def a_star_algorithm(start_node, stop_node):\n",
    "    open_set = set([start_node])\n",
    "    closed_set = set()\n",
    "    g_values = {}\n",
    "    parents = {}\n",
    "    g_values[start_node] = 0\n",
    "    parents[start_node] = start_node\n",
    "\n",
    "    while len(open_set) > 0:\n",
    "        current_node = None\n",
    "\n",
    "        for node in open_set:\n",
    "            if current_node is None or g_values[node] + heuristic_distance(node) < g_values[current_node] + heuristic_distance(current_node):\n",
    "                current_node = node\n",
    "\n",
    "        if current_node == stop_node or graph_nodes[current_node] is None:\n",
    "            pass\n",
    "        else:\n",
    "            for (neighbor, weight) in get_neighbors(current_node):\n",
    "                if neighbor not in open_set and neighbor not in closed_set:\n",
    "                    open_set.add(neighbor)\n",
    "                    parents[neighbor] = current_node\n",
    "                    g_values[neighbor] = g_values[current_node] + weight\n",
    "                else:\n",
    "                    if g_values[neighbor] > g_values[current_node] + weight:\n",
    "                        g_values[neighbor] = g_values[current_node] + weight\n",
    "                        parents[neighbor] = current_node\n",
    "                        if neighbor in closed_set:\n",
    "                            closed_set.remove(neighbor)\n",
    "                            open_set.add(neighbor)\n",
    "\n",
    "        if current_node is None:\n",
    "            print('Path does not exist!')\n",
    "            return None\n",
    "        if current_node == stop_node:\n",
    "            path = []\n",
    "\n",
    "            while parents[current_node] != current_node:\n",
    "                path.append(current_node)\n",
    "                current_node = parents[current_node]\n",
    "\n",
    "            path.append(start_node)\n",
    "\n",
    "            path.reverse()\n",
    "\n",
    "            print('Path found: {}'.format(path))\n",
    "            return path\n",
    "        open_set.remove(current_node)\n",
    "        closed_set.add(current_node)\n",
    "\n",
    "    print('Path does not exist!')\n",
    "    return None\n",
    "\n",
    "a_star_algorithm('A', 'J')\n"
   ]
  }
 ],
 "metadata": {
  "kernelspec": {
   "display_name": "Python 3 (ipykernel)",
   "language": "python",
   "name": "python3"
  },
  "language_info": {
   "codemirror_mode": {
    "name": "ipython",
    "version": 3
   },
   "file_extension": ".py",
   "mimetype": "text/x-python",
   "name": "python",
   "nbconvert_exporter": "python",
   "pygments_lexer": "ipython3",
   "version": "3.11.0"
  }
 },
 "nbformat": 4,
 "nbformat_minor": 5
}
